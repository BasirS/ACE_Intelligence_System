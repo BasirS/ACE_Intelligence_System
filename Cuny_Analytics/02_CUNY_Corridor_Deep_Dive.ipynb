{
 "cells": [
  {
   "cell_type": "markdown",
   "metadata": {},
   "source": [
    "# CUNY Corridor Deep Dive Analysis\n",
    "\n",
    "**Team:** Jujutsu Query  \n",
    "**Project:** Adaptive Enforcement Intelligence System  \n",
    "**Notebook Purpose:** This notebook will perform a geospatial analysis of enforcement blind spots around CUNY campuses during peak class hours.\n",
    "\n",
    "## Objective\n",
    "\n",
    "This analysis focuses specifically on transportation corridors serving CUNY (City University of New York) campuses to identify enforcement gaps that may be impacting student commutes. The analysis will:\n",
    "\n",
    "1. **Map CUNY campus locations and their primary bus corridors**\n",
    "2. **Identify peak class hours and commuting patterns**\n",
    "3. **Analyze enforcement coverage during critical time periods**\n",
    "4. **Detect blind spots where violations occur without adequate enforcement**\n",
    "5. **Provide targeted recommendations for CUNY corridor enforcement**\n",
    "\n",
    "## CUNY Campus Focus Areas\n",
    "\n",
    "- **Brooklyn College** - Flatbush Avenue corridor\n",
    "- **Hunter College** - Lexington Avenue corridor\n",
    "- **City College** - Amsterdam Avenue corridor\n",
    "- **Queens College** - Kissena Boulevard corridor\n",
    "- **Baruch College** - 23rd Street corridor\n",
    "- **And other CUNY campuses with significant bus ridership**\n",
    "\n",
    "## Analysis Framework\n",
    "\n",
    "- **Geospatial Analysis:** Campus proximity mapping, corridor identification\n",
    "- **Temporal Analysis:** Peak hours (7-10 AM, 4-7 PM), class schedule alignment\n",
    "- **Enforcement Gap Analysis:** Violation hotspots vs enforcement deployment\n",
    "- **Student Impact Assessment:** Bus delay effects on academic schedule adherence\n"
   ]
  },
  {
   "cell_type": "markdown",
   "metadata": {},
   "source": [
    "## Setup and Data Loading"
   ]
  },
  {
   "cell_type": "code",
   "execution_count": null,
   "metadata": {},
   "outputs": [],
   "source": [
    "# Import required libraries\n",
    "import pandas as pd\n",
    "import numpy as np\n",
    "import geopandas as gpd\n",
    "import folium\n",
    "from folium import plugins\n",
    "import matplotlib.pyplot as plt\n",
    "import seaborn as sns\n",
    "import plotly.express as px\n",
    "import plotly.graph_objects as go\n",
    "from plotly.subplots import make_subplots\n",
    "from shapely.geometry import Point, Polygon\n",
    "from geopy.distance import geodesic\n",
    "import warnings\n",
    "warnings.filterwarnings('ignore')\n",
    "\n",
    "# Configure plotting\n",
    "plt.style.use('seaborn-v0_8')\n",
    "sns.set_palette(\"viridis\")\n",
    "%matplotlib inline\n",
    "\n",
    "# Import our data pipeline\n",
    "import sys\n",
    "sys.path.append('..')\n",
    "from data_pipeline import MTADataPipeline"
   ]
  },
  {
   "cell_type": "code",
   "execution_count": null,
   "metadata": {},
   "outputs": [],
   "source": [
    "# Initialize data pipeline\n",
    "pipeline = MTADataPipeline(data_directory=\"../data\")\n",
    "\n",
    "# Load and create master dataset\n",
    "master_data = pipeline.create_master_dataframe()\n",
    "\n",
    "# Display data summary\n",
    "summary = pipeline.get_data_summary()\n",
    "print(\"Dataset Summary for CUNY Analysis:\")\n",
    "print(\"=\" * 50)\n",
    "for key, value in summary.items():\n",
    "    print(f\"{key}: {value}\")"
   ]
  },
  {
   "cell_type": "markdown",
   "metadata": {},
   "source": [
    "## CUNY Campus Mapping and Corridor Identification"
   ]
  },
  {
   "cell_type": "code",
   "execution_count": null,
   "metadata": {},
   "outputs": [],
   "source": [
    "# Define CUNY campus locations (approximate coordinates)\n",
    "cuny_campuses = {\n",
    "    'Brooklyn College': {'lat': 40.6317, 'lon': -73.9527, 'borough': 'Brooklyn'},\n",
    "    'Hunter College': {'lat': 40.7684, 'lon': -73.9647, 'borough': 'Manhattan'},\n",
    "    'City College': {'lat': 40.8198, 'lon': -73.9495, 'borough': 'Manhattan'},\n",
    "    'Queens College': {'lat': 40.7362, 'lon': -73.8153, 'borough': 'Queens'},\n",
    "    'Baruch College': {'lat': 40.7398, 'lon': -73.9834, 'borough': 'Manhattan'},\n",
    "    'Lehman College': {'lat': 40.8732, 'lon': -73.8947, 'borough': 'Bronx'},\n",
    "    'York College': {'lat': 40.7005, 'lon': -73.7966, 'borough': 'Queens'},\n",
    "    'John Jay College': {'lat': 40.7707, 'lon': -73.9883, 'borough': 'Manhattan'},\n",
    "    'Medgar Evers College': {'lat': 40.6586, 'lon': -73.9582, 'borough': 'Brooklyn'},\n",
    "    'College of Staten Island': {'lat': 40.6018, 'lon': -74.1492, 'borough': 'Staten Island'}\n",
    "}\n",
    "\n",
    "# Convert to DataFrame for easier manipulation\n",
    "cuny_df = pd.DataFrame.from_dict(cuny_campuses, orient='index').reset_index()\n",
    "cuny_df.rename(columns={'index': 'campus_name'}, inplace=True)\n",
    "\n",
    "print(\"CUNY Campuses for Analysis:\")\n",
    "print(cuny_df)"
   ]
  },
  {
   "cell_type": "code",
   "execution_count": null,
   "metadata": {},
   "outputs": [],
   "source": [
    "# Create base map for CUNY campuses\n",
    "# This will be implemented once we have actual data\n",
    "\n",
    "print(\"TODO: Create interactive map showing CUNY campuses and bus corridors\")\n",
    "print(\"Map features to include:\")\n",
    "print(\"- CUNY campus locations\")\n",
    "print(\"- Major bus routes serving each campus\")\n",
    "print(\"- Bus stop locations within 0.5 mile radius\")\n",
    "print(\"- Enforcement camera locations\")\n",
    "print(\"- Violation hotspot overlays\")"
   ]
  },
  {
   "cell_type": "markdown",
   "metadata": {},
   "source": [
    "## Peak Hours Analysis - Student Commuting Patterns"
   ]
  },
  {
   "cell_type": "code",
   "execution_count": null,
   "metadata": {},
   "outputs": [],
   "source": [
    "# Define peak academic hours\n",
    "peak_hours = {\n",
    "    'morning_commute': {'start': '07:00', 'end': '10:00', 'description': 'Morning class arrivals'},\n",
    "    'lunch_break': {'start': '11:30', 'end': '13:30', 'description': 'Lunch period mobility'},\n",
    "    'evening_commute': {'start': '16:00', 'end': '19:00', 'description': 'Evening departures'},\n",
    "    'evening_classes': {'start': '18:00', 'end': '21:00', 'description': 'Evening class arrivals'}\n",
    "}\n",
    "\n",
    "print(\"TODO: Analyze bus performance during peak academic hours\")\n",
    "print(\"Analysis components:\")\n",
    "print(\"1. Speed variations during different time periods\")\n",
    "print(\"2. Violation patterns correlation with class schedules\")\n",
    "print(\"3. Enforcement effectiveness during peak hours\")\n",
    "print(\"4. Student delay impact assessment\")\n",
    "\n",
    "for period, details in peak_hours.items():\n",
    "    print(f\"- {period}: {details['start']}-{details['end']} ({details['description']})\")"
   ]
  },
  {
   "cell_type": "markdown",
   "metadata": {},
   "source": [
    "## Enforcement Blind Spot Detection"
   ]
  },
  {
   "cell_type": "code",
   "execution_count": null,
   "metadata": {},
   "outputs": [],
   "source": [
    "# Placeholder for blind spot analysis\n",
    "print(\"TODO: Implement enforcement blind spot detection algorithm\")\n",
    "print(\"Detection methodology:\")\n",
    "print(\"1. Identify high-violation corridors near CUNY campuses\")\n",
    "print(\"2. Map current enforcement camera coverage\")\n",
    "print(\"3. Calculate enforcement density per route segment\")\n",
    "print(\"4. Identify gaps where violations exceed enforcement capacity\")\n",
    "print(\"5. Prioritize blind spots by student ridership impact\")"
   ]
  },
  {
   "cell_type": "code",
   "execution_count": null,
   "metadata": {},
   "outputs": [],
   "source": [
    "# Function to calculate campus proximity for bus routes\n",
    "def calculate_campus_proximity(bus_stops_df, cuny_df, radius_miles=0.5):\n",
    "    \"\"\"\n",
    "    Calculate which bus stops/routes are within specified radius of CUNY campuses\n",
    "    \n",
    "    Args:\n",
    "        bus_stops_df: DataFrame with bus stop locations\n",
    "        cuny_df: DataFrame with CUNY campus locations\n",
    "        radius_miles: Search radius in miles\n",
    "    \n",
    "    Returns:\n",
    "        DataFrame with campus proximity flags\n",
    "    \"\"\"\n",
    "    print(f\"TODO: Implement proximity calculation with {radius_miles} mile radius\")\n",
    "    print(\"This function will identify bus infrastructure serving CUNY students\")\n",
    "    return None\n",
    "\n",
    "# Example usage (to be implemented with actual data)\n",
    "# campus_routes = calculate_campus_proximity(bus_stops_data, cuny_df)"
   ]
  },
  {
   "cell_type": "markdown",
   "metadata": {},
   "source": [
    "## Geospatial Visualization and Analysis"
   ]
  },
  {
   "cell_type": "code",
   "execution_count": null,
   "metadata": {},
   "outputs": [],
   "source": [
    "# Placeholder for geospatial visualizations\n",
    "print(\"TODO: Create comprehensive geospatial analysis\")\n",
    "print(\"Visualization components:\")\n",
    "print(\"1. Heat map of violations around CUNY campuses\")\n",
    "print(\"2. Enforcement coverage gaps visualization\")\n",
    "print(\"3. Bus speed corridors during peak hours\")\n",
    "print(\"4. Interactive dashboard for route-specific analysis\")\n",
    "print(\"5. Before/after enforcement impact maps\")"
   ]
  },
  {
   "cell_type": "markdown",
   "metadata": {},
   "source": [
    "## Student Impact Assessment"
   ]
  },
  {
   "cell_type": "code",
   "execution_count": null,
   "metadata": {},
   "outputs": [],
   "source": [
    "# Placeholder for student impact analysis\n",
    "print(\"TODO: Quantify impact of bus delays on CUNY student commutes\")\n",
    "print(\"Impact metrics to calculate:\")\n",
    "print(\"1. Average delay time during peak academic hours\")\n",
    "print(\"2. Reliability index for CUNY corridor routes\")\n",
    "print(\"3. Estimated student-hours lost due to transportation delays\")\n",
    "print(\"4. Academic schedule adherence correlation\")\n",
    "print(\"5. Cost-benefit analysis of enforcement improvements\")"
   ]
  },
  {
   "cell_type": "markdown",
   "metadata": {},
   "source": [
    "## Targeted Recommendations for CUNY Corridors"
   ]
  },
  {
   "cell_type": "code",
   "execution_count": null,
   "metadata": {},
   "outputs": [],
   "source": [
    "# Placeholder for CUNY-specific recommendations\n",
    "print(\"TODO: Generate targeted enforcement recommendations for CUNY corridors\")\n",
    "print(\"Recommendation framework:\")\n",
    "print(\"1. Priority enforcement zones around each campus\")\n",
    "print(\"2. Optimal enforcement timing aligned with class schedules\")\n",
    "print(\"3. Resource allocation for maximum student benefit\")\n",
    "print(\"4. Performance monitoring specific to academic calendar\")\n",
    "print(\"5. Integration with CUNY transportation planning\")"
   ]
  },
  {
   "cell_type": "markdown",
   "metadata": {},
   "source": [
    "## Summary and Next Steps\n",
    "\n",
    "This analysis will provide CUNY-specific insights for the Adaptive Enforcement Intelligence System, ensuring that enforcement strategies consider the unique transportation needs of the university community."
   ]
  }
 ],
 "metadata": {
  "kernelspec": {
   "display_name": "Python 3",
   "language": "python",
   "name": "python3"
  },
  "language_info": {
   "codemirror_mode": {
    "name": "ipython",
    "version": 3
   },
   "file_extension": ".py",
   "mimetype": "text/x-python",
   "name": "python",
   "nbconvert_exporter": "python",
   "pygments_lexer": "ipython3",
   "version": "3.8.5"
  }
 },
 "nbformat": 4,
 "nbformat_minor": 4
}